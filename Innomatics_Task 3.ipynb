{
 "cells": [
  {
   "cell_type": "code",
   "execution_count": 9,
   "id": "86fc87de",
   "metadata": {},
   "outputs": [],
   "source": [
    "import pandas as pd\n",
    "import numpy as np\n",
    "import matplotlib.pyplot as plt\n",
    "from scipy.stats import poisson"
   ]
  },
  {
   "cell_type": "code",
   "execution_count": 10,
   "id": "be0c5b52",
   "metadata": {},
   "outputs": [
    {
     "data": {
      "text/html": [
       "<div>\n",
       "<style scoped>\n",
       "    .dataframe tbody tr th:only-of-type {\n",
       "        vertical-align: middle;\n",
       "    }\n",
       "\n",
       "    .dataframe tbody tr th {\n",
       "        vertical-align: top;\n",
       "    }\n",
       "\n",
       "    .dataframe thead th {\n",
       "        text-align: right;\n",
       "    }\n",
       "</style>\n",
       "<table border=\"1\" class=\"dataframe\">\n",
       "  <thead>\n",
       "    <tr style=\"text-align: right;\">\n",
       "      <th></th>\n",
       "      <th>order_id</th>\n",
       "      <th>time_stamp</th>\n",
       "      <th>status</th>\n",
       "    </tr>\n",
       "  </thead>\n",
       "  <tbody>\n",
       "    <tr>\n",
       "      <th>0</th>\n",
       "      <td>321230114</td>\n",
       "      <td>2020-12-11 00:01:29.000000000</td>\n",
       "      <td>Pending</td>\n",
       "    </tr>\n",
       "    <tr>\n",
       "      <th>1</th>\n",
       "      <td>321230114</td>\n",
       "      <td>2020-12-11 00:06:29.000000000</td>\n",
       "      <td>Out For Delivery</td>\n",
       "    </tr>\n",
       "    <tr>\n",
       "      <th>2</th>\n",
       "      <td>321230114</td>\n",
       "      <td>2020-12-11 00:19:13.299151076</td>\n",
       "      <td>Delivered</td>\n",
       "    </tr>\n",
       "    <tr>\n",
       "      <th>3</th>\n",
       "      <td>321230115</td>\n",
       "      <td>2020-12-11 00:36:02.000000000</td>\n",
       "      <td>Pending</td>\n",
       "    </tr>\n",
       "    <tr>\n",
       "      <th>4</th>\n",
       "      <td>321230115</td>\n",
       "      <td>2020-12-11 00:41:02.000000000</td>\n",
       "      <td>Out For Delivery</td>\n",
       "    </tr>\n",
       "    <tr>\n",
       "      <th>...</th>\n",
       "      <td>...</td>\n",
       "      <td>...</td>\n",
       "      <td>...</td>\n",
       "    </tr>\n",
       "    <tr>\n",
       "      <th>1363003</th>\n",
       "      <td>321684446</td>\n",
       "      <td>2024-01-31 23:58:08.494812502</td>\n",
       "      <td>Delivered</td>\n",
       "    </tr>\n",
       "    <tr>\n",
       "      <th>1363004</th>\n",
       "      <td>321684449</td>\n",
       "      <td>2024-02-01 00:00:46.000000000</td>\n",
       "      <td>Out For Delivery</td>\n",
       "    </tr>\n",
       "    <tr>\n",
       "      <th>1363005</th>\n",
       "      <td>321684448</td>\n",
       "      <td>2024-02-01 00:03:05.000000000</td>\n",
       "      <td>Out For Delivery</td>\n",
       "    </tr>\n",
       "    <tr>\n",
       "      <th>1363006</th>\n",
       "      <td>321684449</td>\n",
       "      <td>2024-02-01 00:14:56.997433391</td>\n",
       "      <td>Delivered</td>\n",
       "    </tr>\n",
       "    <tr>\n",
       "      <th>1363007</th>\n",
       "      <td>321684448</td>\n",
       "      <td>2024-02-01 00:17:50.996900711</td>\n",
       "      <td>Delivered</td>\n",
       "    </tr>\n",
       "  </tbody>\n",
       "</table>\n",
       "<p>1363008 rows × 3 columns</p>\n",
       "</div>"
      ],
      "text/plain": [
       "          order_id                     time_stamp            status\n",
       "0        321230114  2020-12-11 00:01:29.000000000           Pending\n",
       "1        321230114  2020-12-11 00:06:29.000000000  Out For Delivery\n",
       "2        321230114  2020-12-11 00:19:13.299151076         Delivered\n",
       "3        321230115  2020-12-11 00:36:02.000000000           Pending\n",
       "4        321230115  2020-12-11 00:41:02.000000000  Out For Delivery\n",
       "...            ...                            ...               ...\n",
       "1363003  321684446  2024-01-31 23:58:08.494812502         Delivered\n",
       "1363004  321684449  2024-02-01 00:00:46.000000000  Out For Delivery\n",
       "1363005  321684448  2024-02-01 00:03:05.000000000  Out For Delivery\n",
       "1363006  321684449  2024-02-01 00:14:56.997433391         Delivered\n",
       "1363007  321684448  2024-02-01 00:17:50.996900711         Delivered\n",
       "\n",
       "[1363008 rows x 3 columns]"
      ]
     },
     "execution_count": 10,
     "metadata": {},
     "output_type": "execute_result"
    }
   ],
   "source": [
    "data = pd.read_csv(\"E:\\INNOMATICS\\TASK 3\\deliveries.csv\")\n",
    "data"
   ]
  },
  {
   "cell_type": "code",
   "execution_count": 11,
   "id": "744f26bc",
   "metadata": {},
   "outputs": [],
   "source": [
    "data['time_stamp'] = pd.to_datetime(data['time_stamp'])\n",
    "\n",
    "data['hour'] = data['time_stamp'].dt.hour"
   ]
  },
  {
   "cell_type": "code",
   "execution_count": 12,
   "id": "a85925e2",
   "metadata": {},
   "outputs": [
    {
     "data": {
      "text/plain": [
       "hour\n",
       "0     28766\n",
       "1     24291\n",
       "2     22137\n",
       "3     19901\n",
       "4     18935\n",
       "5     22389\n",
       "6     33722\n",
       "7     53472\n",
       "8     68335\n",
       "9     72995\n",
       "10    74829\n",
       "11    77582\n",
       "12    81672\n",
       "13    81418\n",
       "14    82451\n",
       "15    86095\n",
       "16    88655\n",
       "17    90900\n",
       "18    79418\n",
       "19    67107\n",
       "20    58654\n",
       "21    51001\n",
       "22    42688\n",
       "23    35595\n",
       "dtype: int64"
      ]
     },
     "execution_count": 12,
     "metadata": {},
     "output_type": "execute_result"
    }
   ],
   "source": [
    "order_counts_per_hour = data.groupby('hour').size()\n",
    "order_counts_per_hour"
   ]
  },
  {
   "cell_type": "code",
   "execution_count": 13,
   "id": "258c61cb",
   "metadata": {},
   "outputs": [],
   "source": [
    "mu = order_counts_per_hour.mean()\n",
    "poisson_dist = poisson(mu)"
   ]
  },
  {
   "cell_type": "code",
   "execution_count": 14,
   "id": "3d19dcdf",
   "metadata": {},
   "outputs": [
    {
     "data": {
      "text/plain": [
       "56792.0"
      ]
     },
     "execution_count": 14,
     "metadata": {},
     "output_type": "execute_result"
    }
   ],
   "source": [
    "mu"
   ]
  },
  {
   "cell_type": "code",
   "execution_count": 15,
   "id": "04850b2e",
   "metadata": {},
   "outputs": [
    {
     "data": {
      "text/plain": [
       "<scipy.stats._distn_infrastructure.rv_discrete_frozen at 0x135cb9682d0>"
      ]
     },
     "execution_count": 15,
     "metadata": {},
     "output_type": "execute_result"
    }
   ],
   "source": [
    "poisson_dist"
   ]
  },
  {
   "cell_type": "code",
   "execution_count": 16,
   "id": "70bfd449",
   "metadata": {},
   "outputs": [
    {
     "data": {
      "image/png": "[encoded data removed]",
      "text/plain": [
       "<Figure size 1000x600 with 1 Axes>"
      ]
     },
     "metadata": {},
     "output_type": "display_data"
    },
    {
     "name": "stdout",
     "output_type": "stream",
     "text": [
      "Average number of orders per hour: 56792.0\n"
     ]
    }
   ],
   "source": [
    "plt.figure(figsize=(10, 6))\n",
    "plt.bar(order_counts_per_hour.index, order_counts_per_hour.values, color='skyblue', label='Actual')\n",
    "plt.plot(order_counts_per_hour.index, poisson_dist.pmf(order_counts_per_hour.index), 'ro-', label='Poisson fit')\n",
    "plt.xlabel('Hour of the day')\n",
    "plt.ylabel('Number of orders')\n",
    "plt.title('Distribution of Order Counts per Hour')\n",
    "plt.legend()\n",
    "plt.grid(True)\n",
    "plt.show()\n",
    "\n",
    "print(f\"Average number of orders per hour: {mu}\")"
   ]
  },
  {
   "cell_type": "code",
   "execution_count": null,
   "id": "cd4ac558",
   "metadata": {},
   "outputs": [],
   "source": []
  }
 ],
 "metadata": {
  "kernelspec": {
   "display_name": "Python 3 (ipykernel)",
   "language": "python",
   "name": "python3"
  },
  "language_info": {
   "codemirror_mode": {
    "name": "ipython",
    "version": 3
   },
   "file_extension": ".py",
   "mimetype": "text/x-python",
   "name": "python",
   "nbconvert_exporter": "python",
   "pygments_lexer": "ipython3",
   "version": "3.11.5"
  }
 },
 "nbformat": 4,
 "nbformat_minor": 5
}
